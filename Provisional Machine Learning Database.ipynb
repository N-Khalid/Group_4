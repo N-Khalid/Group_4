{
 "cells": [
  {
   "cell_type": "markdown",
   "id": "491f6acf",
   "metadata": {},
   "source": [
    "# Provisional Machine Learning Model"
   ]
  },
  {
   "cell_type": "code",
   "execution_count": 2,
   "id": "58cc0d96",
   "metadata": {},
   "outputs": [],
   "source": [
    "## 1. Downloading the dataset from Kaggle \n",
    "#(https://www.kaggle.com/competitions/house-prices-advanced-regression-techniques/data)\n"
   ]
  },
  {
   "cell_type": "code",
   "execution_count": null,
   "id": "4f9edb66",
   "metadata": {},
   "outputs": [],
   "source": [
    "## 2. View the dataset to get familiar and identify what values we want to use in our analysis"
   ]
  },
  {
   "cell_type": "code",
   "execution_count": null,
   "id": "1bc7648d",
   "metadata": {},
   "outputs": [],
   "source": [
    "## 3. Import into jupyter notebooks"
   ]
  },
  {
   "cell_type": "code",
   "execution_count": null,
   "id": "455fa680",
   "metadata": {},
   "outputs": [],
   "source": [
    "## 4. Perform EDA if necessary"
   ]
  },
  {
   "cell_type": "code",
   "execution_count": null,
   "id": "c6264b4a",
   "metadata": {},
   "outputs": [],
   "source": [
    "## 5. Build supervised machine learning model and using linear regression "
   ]
  },
  {
   "cell_type": "code",
   "execution_count": null,
   "id": "db07b6c7",
   "metadata": {},
   "outputs": [],
   "source": [
    "## 6. Import CSV files and run it through the model to get labels"
   ]
  }
 ],
 "metadata": {
  "kernelspec": {
   "display_name": "PythonData",
   "language": "python",
   "name": "pythondata"
  },
  "language_info": {
   "codemirror_mode": {
    "name": "ipython",
    "version": 3
   },
   "file_extension": ".py",
   "mimetype": "text/x-python",
   "name": "python",
   "nbconvert_exporter": "python",
   "pygments_lexer": "ipython3",
   "version": "3.9.12"
  }
 },
 "nbformat": 4,
 "nbformat_minor": 5
}
