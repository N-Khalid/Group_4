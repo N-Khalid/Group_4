{
 "cells": [
  {
   "cell_type": "markdown",
   "id": "0253c326",
   "metadata": {},
   "source": [
    "# Provisional Database"
   ]
  },
  {
   "cell_type": "code",
   "execution_count": 1,
   "id": "6531ca95",
   "metadata": {},
   "outputs": [],
   "source": [
    "## 1. Downloading the dataset from Kaggle \\n\",\n",
    "#(https://www.kaggle.com/competitions/house-prices-advanced-regression-techniques/data)\\n"
   ]
  },
  {
   "cell_type": "code",
   "execution_count": 2,
   "id": "555846d2",
   "metadata": {},
   "outputs": [],
   "source": [
    "## 2. View the dataset to get familiar and identify what values we want to use in our analysis"
   ]
  },
  {
   "cell_type": "code",
   "execution_count": 3,
   "id": "5981f5c0",
   "metadata": {},
   "outputs": [],
   "source": [
    "## 3. Create mock data based off original dataset (cost_first.csv & home_features_firstseg.csv)"
   ]
  },
  {
   "cell_type": "code",
   "execution_count": 4,
   "id": "49118128",
   "metadata": {},
   "outputs": [],
   "source": [
    "## 4. Create ERD to determine relationships with the data using https://app.quickdatabasediagrams.com/"
   ]
  },
  {
   "cell_type": "code",
   "execution_count": 5,
   "id": "adf36e79",
   "metadata": {},
   "outputs": [],
   "source": [
    "## 5. Create the database in pgAdmin (created on Local Machine)"
   ]
  },
  {
   "cell_type": "code",
   "execution_count": 6,
   "id": "3d8a96af",
   "metadata": {},
   "outputs": [],
   "source": [
    "## 6. Create the tables in SQL"
   ]
  },
  {
   "cell_type": "code",
   "execution_count": 9,
   "id": "c0adda99",
   "metadata": {},
   "outputs": [],
   "source": [
    "## 7. Imported data into the local machine"
   ]
  }
 ],
 "metadata": {
  "kernelspec": {
   "display_name": "PythonData",
   "language": "python",
   "name": "pythondata"
  },
  "language_info": {
   "codemirror_mode": {
    "name": "ipython",
    "version": 3
   },
   "file_extension": ".py",
   "mimetype": "text/x-python",
   "name": "python",
   "nbconvert_exporter": "python",
   "pygments_lexer": "ipython3",
   "version": "3.7.13"
  }
 },
 "nbformat": 4,
 "nbformat_minor": 5
}
